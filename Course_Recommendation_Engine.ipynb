{
 "cells": [
  {
   "cell_type": "code",
   "execution_count": 1,
   "id": "fcf7b144-3358-420d-abdd-e508b648a18f",
   "metadata": {},
   "outputs": [
    {
     "name": "stderr",
     "output_type": "stream",
     "text": [
      "/home/user/Project2_CourseRecommender/venv/lib/python3.12/site-packages/tqdm/auto.py:21: TqdmWarning: IProgress not found. Please update jupyter and ipywidgets. See https://ipywidgets.readthedocs.io/en/stable/user_install.html\n",
      "  from .autonotebook import tqdm as notebook_tqdm\n"
     ]
    }
   ],
   "source": [
    "import pandas as pd\n",
    "from sentence_transformers import SentenceTransformer\n",
    "import faiss\n",
    "from typing import List, Tuple"
   ]
  },
  {
   "cell_type": "code",
   "execution_count": 2,
   "id": "fdaeba80-b998-4012-9441-152853c3a749",
   "metadata": {},
   "outputs": [
    {
     "ename": "NameError",
     "evalue": "name 'df' is not defined",
     "output_type": "error",
     "traceback": [
      "\u001b[31m---------------------------------------------------------------------------\u001b[39m",
      "\u001b[31mNameError\u001b[39m                                 Traceback (most recent call last)",
      "\u001b[36mCell\u001b[39m\u001b[36m \u001b[39m\u001b[32mIn[2]\u001b[39m\u001b[32m, line 5\u001b[39m\n\u001b[32m      2\u001b[39m model = SentenceTransformer(\u001b[33m'\u001b[39m\u001b[33mall-MiniLM-L6-v2\u001b[39m\u001b[33m'\u001b[39m)\n\u001b[32m      4\u001b[39m \u001b[38;5;66;03m# Generate embeddings for all courses\u001b[39;00m\n\u001b[32m----> \u001b[39m\u001b[32m5\u001b[39m course_embeddings = model.encode(\u001b[43mdf\u001b[49m[\u001b[33m'\u001b[39m\u001b[33mtext\u001b[39m\u001b[33m'\u001b[39m].tolist(), show_progress_bar=\u001b[38;5;28;01mTrue\u001b[39;00m)\n\u001b[32m      6\u001b[39m faiss.normalize_L2(course_embeddings)\n",
      "\u001b[31mNameError\u001b[39m: name 'df' is not defined"
     ]
    }
   ],
   "source": [
    "# Load pretrained model\n",
    "model = SentenceTransformer('all-MiniLM-L6-v2')\n",
    "\n",
    "# Generate embeddings for all courses\n",
    "course_embeddings = model.encode(df['text'].tolist(), show_progress_bar=True)\n",
    "faiss.normalize_L2(course_embeddings)"
   ]
  },
  {
   "cell_type": "code",
   "execution_count": null,
   "id": "3c417815-ad79-439d-8c61-780b4ce0e988",
   "metadata": {},
   "outputs": [],
   "source": [
    "def recommend_courses(profile: str, completed_ids: List[str]) -> List[Tuple[str, float]]:\n",
    "    filtered_df = df[~df['course_id'].isin(completed_ids)].copy()\n",
    "    filtered_texts = filtered_df['text'].tolist()\n",
    "\n",
    "    filtered_embeddings = model.encode(filtered_texts, show_progress_bar=False)\n",
    "    faiss.normalize_L2(filtered_embeddings)\n",
    "\n",
    "    dim = filtered_embeddings.shape[1]\n",
    "    index = faiss.IndexFlatIP(dim)\n",
    "    index.add(filtered_embeddings)\n",
    "\n",
    "    user_embedding = model.encode([profile])\n",
    "    faiss.normalize_L2(user_embedding)\n",
    "\n",
    "    scores, indices = index.search(user_embedding, k=5)\n",
    "\n",
    "    results = []\n",
    "    for i in range(5):\n",
    "        idx = indices[0][i]\n",
    "        score = scores[0][i]\n",
    "        course_id = filtered_df.iloc[idx]['course_id']\n",
    "        results.append((course_id, round(float(score), 4)))\n",
    "        return results"
   ]
  },
  {
   "cell_type": "code",
   "execution_count": null,
   "id": "4197d8d8-d7d6-4edb-bfe1-d3c7ecbca285",
   "metadata": {},
   "outputs": [],
   "source": [
    "test_cases = [\n",
    "    (\"I’ve completed the ‘Foundations of Machine Learning’ course and enjoy data visualization.\", ['C001']),\n",
    "    (\"I know Azure basics and want to manage containers and build CI/CD pipelines.\", ['C006']),\n",
    "    (\"My background is in ML fundamentals; I’d like to specialize in neural networks and production workflows.\", ['C001']),\n",
    "    (\"I want to learn to build and deploy microservices with Kubernetes—what courses fit best?\", []),\n",
    "    (\"I’m interested in blockchain and smart contracts but have no prior experience.\", [])\n",
    "]\n",
    "\n",
    "for profile, completed in test_cases:\n",
    "    print(f\"\\nUser Query: {profile}\")\n",
    "    recommendations = recommend_courses(profile, completed)\n",
    "    for course_id, score in recommendations:\n",
    "        title = df[df['course_id'] == course_id]['title'].values[0]\n",
    "        print(f\"  - {course_id} ({score}): {title}\")"
   ]
  }
 ],
 "metadata": {
  "kernelspec": {
   "display_name": "Python 3 (ipykernel)",
   "language": "python",
   "name": "python3"
  },
  "language_info": {
   "codemirror_mode": {
    "name": "ipython",
    "version": 3
   },
   "file_extension": ".py",
   "mimetype": "text/x-python",
   "name": "python",
   "nbconvert_exporter": "python",
   "pygments_lexer": "ipython3",
   "version": "3.12.3"
  }
 },
 "nbformat": 4,
 "nbformat_minor": 5
}
